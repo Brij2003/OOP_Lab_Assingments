{
  "nbformat": 4,
  "nbformat_minor": 0,
  "metadata": {
    "colab": {
      "name": "OOP",
      "provenance": [],
      "collapsed_sections": [],
      "authorship_tag": "ABX9TyMNTDmM82WPf75wO6EMjjNW",
      "include_colab_link": true
    },
    "kernelspec": {
      "name": "python3",
      "display_name": "Python 3"
    },
    "language_info": {
      "name": "python"
    }
  },
  "cells": [
    {
      "cell_type": "markdown",
      "metadata": {
        "id": "view-in-github",
        "colab_type": "text"
      },
      "source": [
        "<a href=\"https://colab.research.google.com/github/Brij2003/oop_Lab/blob/main/OOP%20Assingment-II.ipynb\" target=\"_parent\"><img src=\"https://colab.research.google.com/assets/colab-badge.svg\" alt=\"Open In Colab\"/></a>"
      ]
    },
    {
      "cell_type": "markdown",
      "metadata": {
        "id": "_NNYtvGbr3tu"
      },
      "source": [
        "Problem-I"
      ]
    },
    {
      "cell_type": "code",
      "metadata": {
        "colab": {
          "base_uri": "https://localhost:8080/"
        },
        "id": "IVmAPwjEnj4m",
        "outputId": "0ae3fae7-1795-4694-da4e-10c426647276"
      },
      "source": [
        "from  math import pi\n",
        "class circle:\n",
        "  def per(self,r):\n",
        "   return 2*pi*r\n",
        "  def area(self,r):\n",
        "    return pi*r*r\n",
        "r = int(input(\"Enter the Radius:\"))\n",
        "p = circle()\n",
        "peri = p.per(r)\n",
        "area = p.area(r)\n",
        "print(\"The perimeter of circle is:\",peri)\n",
        "print(\"The Area of circle is:\",area)"
      ],
      "execution_count": null,
      "outputs": [
        {
          "output_type": "stream",
          "name": "stdout",
          "text": [
            "Enter the Radius:7\n",
            "The perimeter of circle is: 43.982297150257104\n",
            "The Area of circle is: 153.93804002589985\n"
          ]
        }
      ]
    },
    {
      "cell_type": "markdown",
      "metadata": {
        "id": "Ch02MzSzr7yI"
      },
      "source": [
        "Problem-II"
      ]
    },
    {
      "cell_type": "code",
      "metadata": {
        "colab": {
          "base_uri": "https://localhost:8080/"
        },
        "id": "0lXKTESLr-nT",
        "outputId": "6a1364f1-2d05-4576-873a-7c7bc843e116"
      },
      "source": [
        "class Faculty:\n",
        "  def __init__(self,name,emp_id,branch,salary):\n",
        "    self.name = name\n",
        "    self.emp_id = emp_id\n",
        "    self.branch = branch\n",
        "    self.salary = salary\n",
        "  def give(self):\n",
        "    print(\"Name of faculty is:\",self.name)\n",
        "    print(\"Employe id of faculty is:\",self.emp_id)\n",
        "    print(\"branch of faculty is:\",self.branch)\n",
        "    print(\"Salary of faculty is:\",self.salary)\n",
        "fac1 = Faculty('abc',4564,'CSE',15344)\n",
        "fac2 = Faculty('def',1651,'ECE',11644)\n",
        "fac3 = Faculty('ghi',1651,'DSAI',16161)\n",
        "fac4 = Faculty('jkl',1986,'CSE',10000)\n",
        "fac5 = Faculty('mno',2654,'CSE',16150)\n",
        "fac1.give()\n",
        "print(\"-----------------------------------\")\n",
        "fac2.give()\n",
        "print(\"-----------------------------------\")\n",
        "fac3.give()\n",
        "print(\"-----------------------------------\")\n",
        "fac4.give()\n",
        "print(\"-----------------------------------\")\n",
        "fac5.give()"
      ],
      "execution_count": null,
      "outputs": [
        {
          "output_type": "stream",
          "name": "stdout",
          "text": [
            "Name of faculty is: abc\n",
            "Employe id of faculty is: 4564\n",
            "branch of faculty is: CSE\n",
            "Salary of faculty is: 15344\n",
            "-----------------------------------\n",
            "Name of faculty is: def\n",
            "Employe id of faculty is: 1651\n",
            "branch of faculty is: ECE\n",
            "Salary of faculty is: 11644\n",
            "-----------------------------------\n",
            "Name of faculty is: ghi\n",
            "Employe id of faculty is: 1651\n",
            "branch of faculty is: DSAI\n",
            "Salary of faculty is: 16161\n",
            "-----------------------------------\n",
            "Name of faculty is: jkl\n",
            "Employe id of faculty is: 1986\n",
            "branch of faculty is: CSE\n",
            "Salary of faculty is: 10000\n",
            "-----------------------------------\n",
            "Name of faculty is: mno\n",
            "Employe id of faculty is: 2654\n",
            "branch of faculty is: CSE\n",
            "Salary of faculty is: 16150\n"
          ]
        }
      ]
    },
    {
      "cell_type": "markdown",
      "metadata": {
        "id": "XAKsJbKiz8Oc"
      },
      "source": [
        "Problem-III"
      ]
    },
    {
      "cell_type": "code",
      "metadata": {
        "id": "OMJbFNbWz-P3",
        "colab": {
          "base_uri": "https://localhost:8080/"
        },
        "outputId": "5002006c-ba79-4966-e180-7d64efabaf76"
      },
      "source": [
        "class account:\n",
        "  def __init__(self,account_holder_name,account_no,amount):\n",
        "    self.account_holder_name = account_holder_name\n",
        "    self.account_no = account_no\n",
        "    self.amount = amount\n",
        "  def deposit(self,amount):\n",
        "    self.amount = amount + self.amount\n",
        "    print(\"The balance after depositing is:\",self.amount)\n",
        "    return amount\n",
        "  def withdraw(self,amount):\n",
        "    self.amount = self.amount - amount\n",
        "    print(\"The balance after remaning withdrawal is:\",self.amount)\n",
        "    return amount\n",
        "  def checkbalance(self):\n",
        "    print(\"The current balannce in account is:\",self.amount)\n",
        "  def account_details(self):\n",
        "    print(\"Account holder name is \",self.account_holder_name)\n",
        "    print(\"Account number of {} is {}\".format(self.account_holder_name,self.account_no))\n",
        "    print(\"Current balance in account is \",self.amount)\n",
        "\n",
        "c1 = account(\"Ram\",123456789,1000)\n",
        "c1.account_details()\n",
        "c1.deposit(100)\n",
        "c1.withdraw(50)\n",
        "c1.checkbalance()\n"
      ],
      "execution_count": null,
      "outputs": [
        {
          "output_type": "stream",
          "name": "stdout",
          "text": [
            "Account holder name is  Ram\n",
            "Account of Ram is 123456789\n",
            "Current balance in account is  1000\n",
            "The balance after depositing is: 1100\n",
            "The balance after remaning withdrawal is: 1050\n",
            "The current balannce in account is: 1050\n"
          ]
        }
      ]
    },
    {
      "cell_type": "markdown",
      "metadata": {
        "id": "J29UpTT70oAF"
      },
      "source": [
        "Problem-IV"
      ]
    },
    {
      "cell_type": "code",
      "metadata": {
        "colab": {
          "base_uri": "https://localhost:8080/"
        },
        "id": "wx2Dy5Km0rku",
        "outputId": "b4b71e34-7568-4929-e526-0df1e11c66d0"
      },
      "source": [
        "class student:\n",
        "  def __init__(self,name,USN):\n",
        "    self.name = name\n",
        "    self.USN = USN\n",
        "    self.marks = []\n",
        "  def Enter(self):\n",
        "    for i in range(3):\n",
        "      a = int(input(\"Enter the marks of subject-{} is \".format(i+1)))\n",
        "      self.marks.append(a)\n",
        "  def details(self):\n",
        "    print(\"The student name is \",self.name)\n",
        "    print(\"The USN is\",self.USN)\n",
        "    print(self.name,\" got \",self.marks)\n",
        "name = str(input(\"Enter student name:\"))\n",
        "USN = int(input(\"Enter USN:\"))\n",
        "s1 = student(name,USN)\n",
        "s1.Enter()\n",
        "s1.details()"
      ],
      "execution_count": 15,
      "outputs": [
        {
          "output_type": "stream",
          "name": "stdout",
          "text": [
            "Enter student name:Brij\n",
            "Enter USN:33\n",
            "Enter the marks of subject-1 is 81\n",
            "Enter the marks of subject-2 is 60\n",
            "Enter the marks of subject-3 is 48\n",
            "The student name is  Brij\n",
            "The USN is 33\n",
            "Brij  got  [81, 60, 48]\n"
          ]
        }
      ]
    },
    {
      "cell_type": "markdown",
      "metadata": {
        "id": "Ir8aCRWv68Kp"
      },
      "source": [
        "Problem-V"
      ]
    },
    {
      "cell_type": "code",
      "metadata": {
        "id": "jXpPj6cc6-xI",
        "colab": {
          "base_uri": "https://localhost:8080/"
        },
        "outputId": "dfd0f6bc-567c-4164-e322-04acccdeeeee"
      },
      "source": [
        "class hospital:\n",
        "  listofpatient = []\n",
        "  list = []\n",
        "  def set_patient(self):\n",
        "    p = self.patient()\n",
        "    self.list.append(p)\n",
        "  class patient:\n",
        "    def __init__(self):\n",
        "      self.name = str(input(\"Enter the patient name - \"))\n",
        "      self.doa = str(input(\"Enter the date of Admission - \"))\n",
        "      self.listofsymptoms = input(\"Enter all the symptoms in a line with space to make difference - \").split(\" \")\n",
        "      self.ol = int(input(\"Enter the Oxygen level - \"))\n",
        "      self.dod = str(input(\"Enter the date of discharge - \"))\n",
        "    def get_patient(self):\n",
        "      print(\"Name - \",self.name,\"\\nDate of adimission - \",self.doa,\"\\nList of symptoms - \",self.listofsymptoms,\"\\nOxygen level - \",self.ol,\"\\nDate od discharge - \",self.dod)\n",
        "    def health(self):\n",
        "      if self.ol < 90:\n",
        "        print(\"Patient is critical\")\n",
        "      else:\n",
        "        print(\"Patient condition is good\")\n",
        "\n",
        "  def severity(self):\n",
        "    for i in range(len(self.list)):\n",
        "      if self.list[i].ol < 90:\n",
        "        self.listofpatient.append(1)\n",
        "      else:\n",
        "        self.listofpatient.append(0)\n",
        "  def oxygensupport(self):\n",
        "    print(\"Number of patients require the oxygen support are - \",self.listofpatient.count(1))\n",
        "  def normal(self):\n",
        "    print(\"Number of patients going normal are - \",self.listofpatient.count(0))\n",
        "  def totalpatient(self):\n",
        "    print(\"Number of patient admited in hospital are - \",len(self.listofpatient))\n",
        "  \n",
        "h1 = hospital()\n",
        "for i in range(2):\n",
        "  h1.set_patient()\n",
        "  h1.list[i].get_patient()\n",
        "  h1.list[i].health()\n",
        "h1.severity()\n",
        "h1.oxygensupport()\n",
        "h1.normal()\n",
        "h1.totalpatient()"
      ],
      "execution_count": 35,
      "outputs": [
        {
          "output_type": "stream",
          "name": "stdout",
          "text": [
            "Enter the patient name - Brij\n",
            "Enter the date of Admission - 01/12/2020\n",
            "Enter all the symptoms in a line with space to make difference - Cough Headache Cold\n",
            "Enter the Oxygen level - 85\n",
            "Enter the date of discharge - 11/01/2021\n",
            "Name -  Brij \n",
            "Date of adimission -  01/12/2020 \n",
            "List of symptoms -  ['Cough', 'Headache', 'Cold'] \n",
            "Oxygen level -  85 \n",
            "Date od discharge -  11/01/2021\n",
            "Patient is critical\n",
            "Enter the patient name - Ram\n",
            "Enter the date of Admission - 01/01/2021\n",
            "Enter all the symptoms in a line with space to make difference - Cough Cold\n",
            "Enter the Oxygen level - 95\n",
            "Enter the date of discharge - 31/01/2021\n",
            "Name -  Ram \n",
            "Date of adimission -  01/01/2021 \n",
            "List of symptoms -  ['Cough', 'Cold'] \n",
            "Oxygen level -  95 \n",
            "Date od discharge -  31/01/2021\n",
            "Patient condition is good\n",
            "Number of patients require the oxygen support are -  1\n",
            "Number of patients going normal are -  1\n",
            "Number of patient admited in hospital are -  2\n"
          ]
        }
      ]
    },
    {
      "cell_type": "markdown",
      "metadata": {
        "id": "tGPYcKxRGnFB"
      },
      "source": [
        "Problem-VI"
      ]
    },
    {
      "cell_type": "code",
      "metadata": {
        "id": "lP5AUIluGsJX",
        "colab": {
          "base_uri": "https://localhost:8080/"
        },
        "outputId": "b8577601-90c5-4945-a4e8-acc51ac576a5"
      },
      "source": [
        "class time:\n",
        "  def set_inital(self):\n",
        "    self.hours = 0\n",
        "    self.minutes = 0\n",
        "    self.seconds = 0\n",
        "  def get_time(self,hours,minutes,seconds):\n",
        "    if seconds > 59:\n",
        "      temp = seconds // 60\n",
        "      seconds = seconds % 60\n",
        "      self.seconds = seconds\n",
        "      self.minutes = temp + minutes\n",
        "    elif minutes > 59:\n",
        "      temp = minutes // 60\n",
        "      minutes = minutes % 60\n",
        "      self.minutes = minutes\n",
        "      self.hour = temp + hour\n",
        "    else:\n",
        "      self.seconds = seconds\n",
        "      self.minutes = minutes\n",
        "      self.hours = hours\n",
        "  def display(self):\n",
        "    print(\"Time is-\",self.hours,\":\",self.minutes,\":\",self.seconds)\n",
        "\n",
        "t1 = time()\n",
        "t1.set_inital()\n",
        "t1.display()\n",
        "t1.get_time(12,59,12)\n",
        "t1.display()"
      ],
      "execution_count": null,
      "outputs": [
        {
          "output_type": "stream",
          "name": "stdout",
          "text": [
            "Time is- 0 : 0 : 0\n",
            "Time is- 12 : 59 : 12\n"
          ]
        }
      ]
    },
    {
      "cell_type": "markdown",
      "metadata": {
        "id": "Qi4mD8FO-wou"
      },
      "source": [
        "Problem-VII"
      ]
    },
    {
      "cell_type": "code",
      "metadata": {
        "colab": {
          "base_uri": "https://localhost:8080/"
        },
        "id": "vQaq0A4Z-zXO",
        "outputId": "500fda9d-e8bb-4dc5-d9f8-c034cb91f91f"
      },
      "source": [
        "class student:\n",
        "  def __init__(self,name,roll_no,age):\n",
        "    self.name = name\n",
        "    self.roll_no = roll_no\n",
        "    self.age = age\n",
        "  def compare_age(s1,s2):\n",
        "    if s1.age == s2.age:\n",
        "      print(\"Age of both the given students are equal\")\n",
        "    else:\n",
        "      print(\"Age of the given students is not equal\")\n",
        "s1 = student(\"Rahul\",33,21)\n",
        "s2 = student(\"Rohit\",74,22)\n",
        "student.compare_age(s1,s2)"
      ],
      "execution_count": null,
      "outputs": [
        {
          "output_type": "stream",
          "name": "stdout",
          "text": [
            "Age of students is not equal\n"
          ]
        }
      ]
    },
    {
      "cell_type": "markdown",
      "metadata": {
        "id": "cEZYl86xAu_N"
      },
      "source": [
        "Problem-VIII"
      ]
    },
    {
      "cell_type": "code",
      "metadata": {
        "id": "-E8avXfGAxLd",
        "colab": {
          "base_uri": "https://localhost:8080/"
        },
        "outputId": "23df2fb9-3ff7-403e-b88d-4437f6aa1f3c"
      },
      "source": [
        "class student:\n",
        "  #Declaring the class variable\n",
        "  institute = \"IIIT Dharwad\"\n",
        "  sem = 3\n",
        "  def set_specific(self):\n",
        "    #Declaring instance variable\n",
        "    self.name = str(input(\"Enter the student's name: \"))\n",
        "    self.usn = str(input(\"Enter student's USN: \"))\n",
        "  def get_specific(self):\n",
        "    print(\"Name of student - \",self.name,\"\\nUSN of student - \",self.usn)\n",
        "  @classmethod\n",
        "  def get_same(cls):\n",
        "    print(\"Institute - \",cls.institute,\"\\nSemister - \",cls.sem)\n",
        "  @staticmethod\n",
        "  def explanation():\n",
        "    print(\"The instance variable like name and USN can be accessed by the instencemethod that's why it contain self keyword\\nWhen class variable like institue name and semister which is common all over the class can only be accessed by the class method with decorators like @classmethod to specify the class method\\nWhile static mtehod is used to do some other operations not using class/instance variable\")\n",
        "\n",
        "s1 = student()\n",
        "s1.set_specific()\n",
        "s1.get_same()\n",
        "s1.get_specific()\n",
        "s1.explanation()"
      ],
      "execution_count": null,
      "outputs": [
        {
          "output_type": "stream",
          "name": "stdout",
          "text": [
            "Enter the student's name: Brij\n",
            "Enter student's USN: 20bcs033\n",
            "Institute -  IIIT Dharwad \n",
            "Semister -  3\n",
            "Name of student -  Brij \n",
            "USN of student -  20bcs033\n",
            "The instance variable like name and USN can be accessed by the instencemethod that's why it contain self keyword\n",
            "When class variable like institue name and semister which is common all over the class can only be accessed by the class method with decorators like @classmethod to specify the class method\n",
            "While static mtehod is used to do some other operations not using class/instance variable\n"
          ]
        }
      ]
    },
    {
      "cell_type": "markdown",
      "metadata": {
        "id": "yUBXghDooN9Z"
      },
      "source": [
        "Problem-IX"
      ]
    },
    {
      "cell_type": "code",
      "metadata": {
        "id": "EgRsgkLPoQyR",
        "colab": {
          "base_uri": "https://localhost:8080/"
        },
        "outputId": "7d41f22a-e779-43c8-83de-e6c8e6a36fa6"
      },
      "source": [
        "class student:\n",
        "  def set_details(self):\n",
        "    self.name = str(input(\"Set the name of student - \"))\n",
        "    self.roll_no = int(input(\"Set the roll no of student - \"))\n",
        "    self.sem = int(input(\"Set the semister of student - \"))\n",
        "    self.n = int(input(\"Set the not laptop student has - \"))\n",
        "    self.listdisplay = []\n",
        "    for i in range(0,self.n):\n",
        "      l = self.laptop()\n",
        "      self.listdisplay.append(l)\n",
        "\n",
        "  class laptop:\n",
        "    def __init__(self):\n",
        "      self.cpu = str(input(\"Name of CUP - \"))\n",
        "      self.ram = int(input(\"Set the size of RAM avaliable - \"))\n",
        "      self.hard_disc = int(input(\"enter the size of hard disc (in GB) - \"))\n",
        "\n",
        "    def get_info(self):\n",
        "      print(\"CPU - \",self.cpu,\"\\nRAM - \",self.ram,\"\\nHard disc - \",self.hard_disc)\n",
        "\n",
        "  def get_details(self):\n",
        "    print(\"Name - \",self.name,\"\\nRoll no - \",self.roll_no,\"\\nSem - \",self.sem)\n",
        "    for i in range(0,self.n):\n",
        "      print(\"Details of Laptop \\n\")\n",
        "      self.listdisplay[i].get_info()\n",
        "\n",
        "s1 = student()\n",
        "s1.set_details()\n",
        "s1.get_details()\n"
      ],
      "execution_count": 14,
      "outputs": [
        {
          "output_type": "stream",
          "name": "stdout",
          "text": [
            "Set the name of student - Brij\n",
            "Set the roll no of student - 33\n",
            "Set the semister of student - 03\n",
            "Set the not laptop student has - 03\n",
            "Name of CUP - i4\n",
            "Set the size of RAM avaliable - 6\n",
            "enter the size of hard disc (in GB) - 512\n",
            "Name of CUP - i5\n",
            "Set the size of RAM avaliable - 8\n",
            "enter the size of hard disc (in GB) - 1024\n",
            "Name of CUP - i6\n",
            "Set the size of RAM avaliable - 12\n",
            "enter the size of hard disc (in GB) - 2048\n",
            "Name -  Brij \n",
            "Roll no -  33 \n",
            "Sem -  3\n",
            "Details of Laptop \n",
            "\n",
            "CPU -  i4 \n",
            "RAM -  6 \n",
            "Hard disc -  512\n",
            "Details of Laptop \n",
            "\n",
            "CPU -  i5 \n",
            "RAM -  8 \n",
            "Hard disc -  1024\n",
            "Details of Laptop \n",
            "\n",
            "CPU -  i6 \n",
            "RAM -  12 \n",
            "Hard disc -  2048\n"
          ]
        }
      ]
    }
  ]
}