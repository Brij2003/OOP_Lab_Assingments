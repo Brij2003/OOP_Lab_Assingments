{
  "nbformat": 4,
  "nbformat_minor": 0,
  "metadata": {
    "colab": {
      "name": "OOP Lab Assignment-I",
      "provenance": [],
      "authorship_tag": "ABX9TyPX9meUhSX5jo5iHFHfN/Mq",
      "include_colab_link": true
    },
    "kernelspec": {
      "name": "python3",
      "display_name": "Python 3"
    },
    "language_info": {
      "name": "python"
    }
  },
  "cells": [
    {
      "cell_type": "markdown",
      "metadata": {
        "id": "view-in-github",
        "colab_type": "text"
      },
      "source": [
        "<a href=\"https://colab.research.google.com/github/Brij2003/oop_Lab/blob/main/OOP_Lab_Assignment_I.ipynb\" target=\"_parent\"><img src=\"https://colab.research.google.com/assets/colab-badge.svg\" alt=\"Open In Colab\"/></a>"
      ]
    },
    {
      "cell_type": "markdown",
      "metadata": {
        "id": "VM5u3ck7zHs6"
      },
      "source": [
        "Problem-I"
      ]
    },
    {
      "cell_type": "code",
      "metadata": {
        "colab": {
          "base_uri": "https://localhost:8080/"
        },
        "id": "NfZR-kuxy9E-",
        "outputId": "8624f71a-5b73-4b52-a47f-ff139b9cdc19"
      },
      "source": [
        "def leap_year(n):\n",
        "  if (n % 4 == 0):\n",
        "    if(n % 400 == 0):\n",
        "      return True\n",
        "    elif (n % 100 == 0):\n",
        "      return False\n",
        "    else:\n",
        "      return True\n",
        "  else:\n",
        "    return False\n",
        "\n",
        "n = int(input(\"Enter The year:\"))\n",
        "str = leap_year(n)\n",
        "if(str == True):\n",
        "  print(\"The Year is a leap year\")\n",
        "else:\n",
        "  print(\"The year is not a leap year\")"
      ],
      "execution_count": null,
      "outputs": [
        {
          "output_type": "stream",
          "name": "stdout",
          "text": [
            "Enter The year:2000\n",
            "The Year is a leap year\n"
          ]
        }
      ]
    },
    {
      "cell_type": "markdown",
      "metadata": {
        "id": "hXRvw1BA1bOF"
      },
      "source": [
        "Problem-II"
      ]
    },
    {
      "cell_type": "code",
      "metadata": {
        "colab": {
          "base_uri": "https://localhost:8080/"
        },
        "id": "a82fbXv71dwl",
        "outputId": "d109faba-f019-4732-ecce-642ad5fdd66f"
      },
      "source": [
        "n = int(input(\"Enter the Number:\"))\n",
        "a = n % 2\n",
        "if (a == 0):\n",
        "  if (2 <= n <=5):\n",
        "    print(\"Not Weird\")\n",
        "  elif (6 <= n <= 20):\n",
        "    print(\"Weird\")\n",
        "  else:\n",
        "    print(\"Not Weird\")\n",
        "else:\n",
        "  print(\"Weird\")\n"
      ],
      "execution_count": null,
      "outputs": [
        {
          "output_type": "stream",
          "name": "stdout",
          "text": [
            "Enter the Number:22\n",
            "Not Weird\n"
          ]
        }
      ]
    },
    {
      "cell_type": "markdown",
      "metadata": {
        "id": "xM90j8rm3gmR"
      },
      "source": [
        "Problem-III"
      ]
    },
    {
      "cell_type": "code",
      "metadata": {
        "id": "vkZd7SiB3jcC",
        "colab": {
          "base_uri": "https://localhost:8080/"
        },
        "outputId": "0ec74794-8d80-449a-fe63-67b9da6a06cb"
      },
      "source": [
        "def even(attendees):\n",
        "  if (attendees % 2 == 0):\n",
        "    return attendees\n",
        "  else:\n",
        "    return (attendees + 1)/2\n",
        "\n",
        "list = []\n",
        "attendees = int(input(\"Enter the number of \"))\n",
        "for i in range (0,attendees):\n",
        "  name = str(input())\n",
        "  list.append(name)\n",
        "a = int(even(attendees))\n",
        "print(\"The guest who are fashionably late are\")\n",
        "for i in range(a,attendees):\n",
        "  print(list[i])\n",
        "\n"
      ],
      "execution_count": null,
      "outputs": [
        {
          "output_type": "stream",
          "name": "stdout",
          "text": [
            "Enter the number of 7\n",
            "Hardik\n",
            "Rahul\n",
            "Virat\n",
            "Rishab\n",
            "Mahi\n",
            "Rohit\n",
            "Rahane\n",
            "The guest who are fashionably late are\n",
            "Mahi\n",
            "Rohit\n",
            "Rahane\n"
          ]
        }
      ]
    },
    {
      "cell_type": "markdown",
      "metadata": {
        "id": "P5bZDTZBKyZV"
      },
      "source": [
        "Problem-IV"
      ]
    },
    {
      "cell_type": "code",
      "metadata": {
        "colab": {
          "base_uri": "https://localhost:8080/"
        },
        "id": "eNmgUlS1K2XH",
        "outputId": "1e56266b-0f9a-49c7-b0d2-3e3b24138119"
      },
      "source": [
        "word_search(doc_list, 'car')\n",
        "def word_search(documents, keyword):\n",
        "    indices = []\n",
        "    for i, doc in enumerate(documents):\n",
        "        tokens = doc.split()\n",
        "        normalized = [token.rstrip('.,').lower() for token in tokens]\n",
        "        if keyword.lower() in normalized:\n",
        "            indices.append(i)\n",
        "    return indices\n",
        "doc_list=['The Learn Python Challenge Rohit', 'They bought a car', 'bangalore']\n",
        "word_search(doc_list, 'bangalore')"
      ],
      "execution_count": 7,
      "outputs": [
        {
          "output_type": "execute_result",
          "data": {
            "text/plain": [
              "[2]"
            ]
          },
          "metadata": {},
          "execution_count": 7
        }
      ]
    },
    {
      "cell_type": "markdown",
      "metadata": {
        "id": "H1gDZ3u2LtwU"
      },
      "source": [
        "Problem-V"
      ]
    },
    {
      "cell_type": "code",
      "metadata": {
        "colab": {
          "base_uri": "https://localhost:8080/"
        },
        "id": "SeoZAuLULwEt",
        "outputId": "ab9a32e2-388d-40e7-b683-2e61f9742da3"
      },
      "source": [
        "def fun(BP):\n",
        "  DA = float((BP * 40)/100)\n",
        "  HRA = float((BP * 20)/100)\n",
        "  GP = BP + DA + HRA\n",
        "  return GP\n",
        "BP = float(input(\"Enter Employ's Basic pay:\"))\n",
        "print(\"The Gross pay Whould be:\",fun(BP))\n"
      ],
      "execution_count": null,
      "outputs": [
        {
          "output_type": "stream",
          "name": "stdout",
          "text": [
            "Enter Employ's Basic pay:25000\n",
            "The Gross pay Whould be: 40000.0\n"
          ]
        }
      ]
    }
  ]
}