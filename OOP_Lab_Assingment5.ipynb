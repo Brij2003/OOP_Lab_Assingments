{
  "nbformat": 4,
  "nbformat_minor": 0,
  "metadata": {
    "colab": {
      "name": "OOP_Task5.ipynb",
      "provenance": [],
      "authorship_tag": "ABX9TyPMII0OzUjBdiOkEo5gMoD/",
      "include_colab_link": true
    },
    "kernelspec": {
      "name": "python3",
      "display_name": "Python 3"
    },
    "language_info": {
      "name": "python"
    }
  },
  "cells": [
    {
      "cell_type": "markdown",
      "metadata": {
        "id": "view-in-github",
        "colab_type": "text"
      },
      "source": [
        "<a href=\"https://colab.research.google.com/github/Brij2003/OOP_Lab_Assingments/blob/main/OOP_Lab_Assingment5.ipynb\" target=\"_parent\"><img src=\"https://colab.research.google.com/assets/colab-badge.svg\" alt=\"Open In Colab\"/></a>"
      ]
    },
    {
      "cell_type": "markdown",
      "metadata": {
        "id": "W3ZAWqjC-FCG"
      },
      "source": [
        "#Problem-I\n",
        "Write a Python programme to create the parent class shape, derive the subclasses circle,\n",
        "square, and rectangle from the class shape, and demonstrate polymorphism in inheritance\n",
        "using a member function area ()."
      ]
    },
    {
      "cell_type": "code",
      "metadata": {
        "colab": {
          "base_uri": "https://localhost:8080/"
        },
        "id": "vGoLRp0p9n25",
        "outputId": "ec7c44f0-1390-41bb-9cb6-6f952e9db81d"
      },
      "source": [
        "from math import pi\n",
        "\n",
        "class shapes:\n",
        "  def area(self):\n",
        "    pass\n",
        "\n",
        "class circle(shapes):\n",
        "  def __init__(self, radius):\n",
        "    self.radius = radius\n",
        "  def area(self):\n",
        "    area = float(pi * (self.radius ** 2))\n",
        "    print(\"The area of circle is :\",area)\n",
        "\n",
        "class rectangle(shapes):\n",
        "  def __init__(self,lenght,breadth):\n",
        "    self.lenght = lenght\n",
        "    self.breadth = breadth\n",
        "  def area(self):\n",
        "    area = float(self.lenght * self.breadth)\n",
        "    print(\"The area of rectangle is :\",area)\n",
        "\n",
        "\n",
        "class square(shapes):\n",
        "  def __init__(self,lenght):\n",
        "    self.lenght = lenght\n",
        "  def area(self):\n",
        "    area = float(self.lenght ** 2)\n",
        "    print(\"The area of square is :\",area)\n",
        "\n",
        "s1 = circle(7)\n",
        "s1.area()\n",
        "\n",
        "s2 = rectangle(2,4)\n",
        "s2.area()\n",
        "\n",
        "s3 = square(5)\n",
        "s3.area()\n"
      ],
      "execution_count": 7,
      "outputs": [
        {
          "output_type": "stream",
          "name": "stdout",
          "text": [
            "The area of circle is : 153.93804002589985\n",
            "The area of rectangle is : 8.0\n",
            "The area of square is : 25.0\n"
          ]
        }
      ]
    },
    {
      "cell_type": "markdown",
      "metadata": {
        "id": "hE74iTgLMKYp"
      },
      "source": [
        "#Problem-II\n",
        "The family has decided to travel by road from Dharwad to Belagavi, and they have\n",
        "chosen to estimate the cost before starting on this journey. Write python code to create\n",
        "the parent class Travel with member functions include the number of passengers, the\n",
        "distance travelled, and the mode of transportation. Derive two subclasses, train and bus,\n",
        "from the parent class, each with a member function that calculates the cost of trip. Also,\n",
        "keep the numbers of passengers as a private member of the parent class and try to access\n",
        "it through the child class to estimate costs.\n",
        "[Note: Assume cost of travelling/person through train = 60 rs, cost of travelling /person\n",
        "through bus= 100 rs]."
      ]
    },
    {
      "cell_type": "code",
      "metadata": {
        "colab": {
          "base_uri": "https://localhost:8080/"
        },
        "id": "tGoLIMCPMOHC",
        "outputId": "2dc94811-eda0-4f79-b739-730fd52d9b61"
      },
      "source": [
        "class Travel:\n",
        "    def __init__(self, no_of_passengers, distance, mode_of_transpotation):\n",
        "        self.no_of_passengers = no_of_passengers\n",
        "        self.distance = distance\n",
        "        self.mode_of_transpotation = mode_of_transpotation\n",
        "    def Passengers(self):\n",
        "        return self.no_of_passengers\n",
        "class Bus(Travel):\n",
        "    def cost_of_trip(self,cost_per_person = 100):\n",
        "        self.cost_per_person = cost_per_person\n",
        "        return (self.Passengers() * self.cost_per_person)\n",
        "class Train(Travel):\n",
        "    def cost_of_trip(self,cost_per_person = 60):\n",
        "        self.cost_per_person = cost_per_person\n",
        "        return (self.Passengers() * self.cost_per_person)\n",
        "b1 = Bus(4, 100, \"Bus\")\n",
        "print(f\"Cost to travel from Bus :\",b1.cost_of_trip())\n",
        "t1 = Train(4, 100, \"Train\")\n",
        "print(\"Cost to travel from Train :\",t1.cost_of_trip())"
      ],
      "execution_count": 14,
      "outputs": [
        {
          "output_type": "stream",
          "name": "stdout",
          "text": [
            "Cost to travel from Bus : 400\n",
            "Cost to travel from Train : 240\n"
          ]
        }
      ]
    },
    {
      "cell_type": "markdown",
      "metadata": {
        "id": "IcYKSP2XMOnP"
      },
      "source": [
        "#Problem-III\n",
        "Assume that there a class Car with model number as its member variable. Write a python\n",
        "program to swap the values of model number in Car objects c1 and c2."
      ]
    },
    {
      "cell_type": "code",
      "metadata": {
        "colab": {
          "base_uri": "https://localhost:8080/"
        },
        "id": "t5cLB3cYMWvQ",
        "outputId": "7b403770-7293-44d1-fb60-d8f906260f45"
      },
      "source": [
        "class car:\n",
        "  def __init__(self,model_no):\n",
        "    self.model_no = model_no\n",
        "\n",
        "def swap(o1,o2):\n",
        "  o1.model_no,o2.model_no = o2.model_no,o1.model_no\n",
        "c1 = car(\"abc123\")\n",
        "c2 = car(\"cba321\")\n",
        "print(\"Model no before swaping\",\"Car1 :\",c1.model_no,\"& Car2 :\",c2.model_no)\n",
        "swap(c1,c2)\n",
        "print(\"Model no after swaping\",\"Car1 :\",c1.model_no,\"& Car2 :\",c2.model_no)"
      ],
      "execution_count": 9,
      "outputs": [
        {
          "output_type": "stream",
          "name": "stdout",
          "text": [
            "Model no before swaping Car1 : abc123 & Car2 : cba321\n",
            "Model no after swaping Car1 : cba321 & Car2 : abc123\n"
          ]
        }
      ]
    }
  ]
}