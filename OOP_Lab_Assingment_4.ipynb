{
  "nbformat": 4,
  "nbformat_minor": 0,
  "metadata": {
    "colab": {
      "name": "OOP_Lab_Assingment 4.ipynb",
      "provenance": [],
      "authorship_tag": "ABX9TyMYRZEP/6bw8bZA+wZIO3iK",
      "include_colab_link": true
    },
    "kernelspec": {
      "name": "python3",
      "display_name": "Python 3"
    },
    "language_info": {
      "name": "python"
    }
  },
  "cells": [
    {
      "cell_type": "markdown",
      "metadata": {
        "id": "view-in-github",
        "colab_type": "text"
      },
      "source": [
        "<a href=\"https://colab.research.google.com/github/Brij2003/OOP_Lab_Assingments/blob/main/OOP_Lab_Assingment_4.ipynb\" target=\"_parent\"><img src=\"https://colab.research.google.com/assets/colab-badge.svg\" alt=\"Open In Colab\"/></a>"
      ]
    },
    {
      "cell_type": "markdown",
      "metadata": {
        "id": "yvWX0x38F2L-"
      },
      "source": [
        "#Problem-I\n",
        "Write a python code to create a class node with data and address of next node as\n",
        "parameters. Derive stack class from node class with top position or head node position as a\n",
        "parameter and also perform the following operations.\n",
        "\n",
        "a. Check stack is empty\n",
        "\n",
        "b. Add data to stack\n",
        "\n",
        "c. Delete data from the stack.\n",
        "\n",
        "d. Display the elements of the stack.\n",
        "\n",
        "e. Deallocate the memory assigned to each node using destructors"
      ]
    },
    {
      "cell_type": "code",
      "metadata": {
        "colab": {
          "base_uri": "https://localhost:8080/"
        },
        "id": "vhGvieoF82wp",
        "outputId": "380232d1-c0d7-46b5-b5d7-25174ff4f751"
      },
      "source": [
        "class Node:\n",
        "  def __init__(self,data):\n",
        "    self.data = data\n",
        "    self.next = 0\n",
        "class stack(Node):\n",
        "  def __init__(self):\n",
        "    self.head = Node(\"head\")\n",
        "    self.size = 0\n",
        "  def checkempty(self):\n",
        "    p = self.Empty()\n",
        "    if p == 1:\n",
        "      print(\"Stack is empty\")\n",
        "    else:\n",
        "      print(\"Stack is not empty\")\n",
        "  def Empty(self):\n",
        "    return self.size == 0\n",
        "  def push(self, value):\n",
        "    p = Node(value)\n",
        "    p.next = self.head.next\n",
        "    self.head.next = p\n",
        "    self.size += 1\n",
        "  def pop(self):\n",
        "    if self.Empty():\n",
        "      print(\"Stack is empty\")\n",
        "    p = self.head.next\n",
        "    self.head.next = self.head.next.next\n",
        "    self.size -= 1\n",
        "    return p.data\n",
        "  def display(self):\n",
        "    next = self.head.next\n",
        "    print(\"Current stack is \")\n",
        "    while next:\n",
        "      print(next.data, end=\"\\n\")\n",
        "      next = next.next\n",
        "    print()\n",
        "  def __del__(self):\n",
        "    if not self.Empty():\n",
        "      next = self.head\n",
        "      while next:\n",
        "        p = next.next\n",
        "        del next\n",
        "        self.size -= 1\n",
        "        next = p\n",
        "\n",
        "s1 = stack()\n",
        "s1.checkempty()\n",
        "s1.push(5)\n",
        "s1.push(81)\n",
        "s1.push(7)\n",
        "s1.push(26)\n",
        "s1.push(1)\n",
        "s1.push(9)\n",
        "s1.display()\n",
        "s1.checkempty()\n",
        "p = s1.pop()\n",
        "print(p,\"is poped from  the stack \\n\")\n",
        "s1.display() "
      ],
      "execution_count": 27,
      "outputs": [
        {
          "output_type": "stream",
          "name": "stdout",
          "text": [
            "Stack is empty\n",
            "Current stack is \n",
            "9\n",
            "1\n",
            "26\n",
            "7\n",
            "81\n",
            "5\n",
            "\n",
            "Stack is not empty\n",
            "9 is poped from  the stack \n",
            "\n",
            "Current stack is \n",
            "1\n",
            "26\n",
            "7\n",
            "81\n",
            "5\n",
            "\n"
          ]
        }
      ]
    },
    {
      "cell_type": "markdown",
      "metadata": {
        "id": "ZgRpPXOZGQQh"
      },
      "source": [
        "#Problem-II\n",
        " Write a python code to calculate the area of a rectangle using parametrized and default\n",
        " \n",
        "constructors."
      ]
    },
    {
      "cell_type": "code",
      "metadata": {
        "colab": {
          "base_uri": "https://localhost:8080/"
        },
        "id": "5tm_MA0wFmjF",
        "outputId": "c5fbd0e8-c0d2-49a1-fed4-52bcc6c04d82"
      },
      "source": [
        "class area_of_Rec:\n",
        "  def __init__(self):\n",
        "    pass\n",
        "  def setval(self,lenght,width):\n",
        "    self.lenght = lenght\n",
        "    self.width = width\n",
        "  def area(self):\n",
        "    print(\"Area of rectangle is - \",self.lenght * self.width)\n",
        "  \n",
        "class area_of_pra_Rec:\n",
        "  def __init__(self,lenght,width):\n",
        "    self.lenght = lenght\n",
        "    self.width = width    \n",
        "  def area(self):\n",
        "    print(\"Area of rectangle is - \",self.lenght * self.width)\n",
        "  \n",
        "r1 = area_of_Rec()\n",
        "r1.setval(5,12)\n",
        "r1.area()\n",
        "r2 = area_of_pra_Rec(10,5)\n",
        "r2.area()"
      ],
      "execution_count": 17,
      "outputs": [
        {
          "output_type": "stream",
          "name": "stdout",
          "text": [
            "Area of rectangle is -  60\n",
            "Area of rectangle is -  50\n"
          ]
        }
      ]
    },
    {
      "cell_type": "markdown",
      "metadata": {
        "id": "Uh-wLRBYITRY"
      },
      "source": [
        "#Problem-III\n",
        "Write a python program to implement queue operations using constructors and destructors."
      ]
    },
    {
      "cell_type": "code",
      "metadata": {
        "colab": {
          "base_uri": "https://localhost:8080/"
        },
        "id": "8SWxSq5kIXy7",
        "outputId": "ab60896f-8f48-4644-b334-9789dd627078"
      },
      "source": [
        "class queue:\n",
        "  def __init__(self):\n",
        "    self.queue = []\n",
        "    print(\"Queue is cerated in the memory\")\n",
        "  def Empty(self):\n",
        "    return self.queue == []\n",
        "  def checkempty(self):\n",
        "    p = self.Empty()\n",
        "    if p == 1:\n",
        "      print(\"Queue is empty\")\n",
        "    else:\n",
        "      print(\"Queue is not empty\")\n",
        "  def enqueue(self,data):\n",
        "    self.queue.append(data)\n",
        "  def dequeue(self):\n",
        "    if self.Empty():\n",
        "      print(\"Queue is empty\")\n",
        "    else:\n",
        "      print(self.queue.pop(0),\"is dequeued from the queue\")\n",
        "  def display(self):\n",
        "    print(\"Current Queue is :\",self.queue)\n",
        "  def __del__(self):\n",
        "    print(\"Queue is removed form memory\")\n",
        "\n",
        "q1 = queue()\n",
        "q1.checkempty()\n",
        "q1.enqueue(2)\n",
        "q1.enqueue(5)\n",
        "q1.enqueue(7)\n",
        "q1.enqueue(9)\n",
        "q1.display()\n",
        "q1.checkempty()\n",
        "q1.dequeue()\n",
        "del q1\n"
      ],
      "execution_count": 37,
      "outputs": [
        {
          "output_type": "stream",
          "name": "stdout",
          "text": [
            "Queue is cerated in the memory\n",
            "Queue is empty\n",
            "Current Queue is : [2, 5, 7, 9]\n",
            "Queue is not empty\n",
            "2 is dequeued from the queue\n",
            "Queue is removed form memory\n"
          ]
        }
      ]
    }
  ]
}