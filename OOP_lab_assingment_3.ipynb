{
  "nbformat": 4,
  "nbformat_minor": 0,
  "metadata": {
    "colab": {
      "name": "Untitled1.ipynb",
      "provenance": [],
      "authorship_tag": "ABX9TyPrd80B2oheCzrVPS3purHY",
      "include_colab_link": true
    },
    "kernelspec": {
      "name": "python3",
      "display_name": "Python 3"
    },
    "language_info": {
      "name": "python"
    }
  },
  "cells": [
    {
      "cell_type": "markdown",
      "metadata": {
        "id": "view-in-github",
        "colab_type": "text"
      },
      "source": [
        "<a href=\"https://colab.research.google.com/github/Brij2003/oop_Lab/blob/main/OOP_lab_assingment_3.ipynb\" target=\"_parent\"><img src=\"https://colab.research.google.com/assets/colab-badge.svg\" alt=\"Open In Colab\"/></a>"
      ]
    },
    {
      "cell_type": "markdown",
      "metadata": {
        "id": "rZj_EOCIn9TB"
      },
      "source": [
        "Problem-I"
      ]
    },
    {
      "cell_type": "code",
      "metadata": {
        "colab": {
          "base_uri": "https://localhost:8080/"
        },
        "id": "HsSifTv0oDWK",
        "outputId": "5ed372ab-33ea-4bc5-ca6c-d629e0342324"
      },
      "source": [
        "class student:\n",
        "  def set_details(self):\n",
        "    self.name = str(input(\"Enter the name of student - \"))\n",
        "    self.reg_no = str(input(\"Enter the reg no - \"))\n",
        "    self.age = int(input(\"Enter the age - \"))\n",
        "    self.gender = str(input(\"Enter the gender - \"))\n",
        "    self.branch = str(input(\"Enter the branch - \"))\n",
        "    self.sem = int(input(\"enter the semister  - \"))\n",
        "\n",
        "  def get_details(self):\n",
        "    print(\"Name - \",self.name,\"\\nReg. No. - \",self.reg_no,\"\\nAge - \",self.age,\"\\nGender - \",self.gender,\"\\nBranch - \",self.branch,\"\\nSem - \",self.sem)\n",
        "  \n",
        "class studentresultinfo(student):\n",
        "  def set_result(self):\n",
        "    self.total_marks = int(input(\"Enter student total marks - \"))\n",
        "    self.percentage = int(input(\"Enter student percentage - \"))\n",
        "    self.grade = str(input(\"Enter the grede of student - \"))\n",
        "\n",
        "  def get_result(self):\n",
        "    print(\"Total marks - \",self.total_marks,\"\\nPercentage - \",self.percentage,\"\\nGrade - \",self.grade)\n",
        "\n",
        "print(\"Display using inherited class\")\n",
        "s1 = studentresultinfo()\n",
        "s1.set_details()\n",
        "s1.set_result()\n",
        "s1.get_details()\n",
        "s1.get_result()"
      ],
      "execution_count": 5,
      "outputs": [
        {
          "output_type": "stream",
          "name": "stdout",
          "text": [
            "Enter the name of student - Brij\n",
            "Enter the reg no - 20BCS033\n",
            "Enter the age - 18\n",
            "Enter the gender - MALE\n",
            "Enter the branch - CSE\n",
            "enter the semister  - 3\n",
            "Enter student total marks - 88\n",
            "Enter student percentage - 88\n",
            "Enter the grede of student - A\n",
            "Name -  Brij \n",
            "Reg. No. -  20BCS033 \n",
            "Age -  18 \n",
            "Gender -  MALE \n",
            "Branch -  CSE \n",
            "Sem -  3\n",
            "Total marks -  88 \n",
            "Percentage -  88 \n",
            "Grade -  A\n"
          ]
        }
      ]
    },
    {
      "cell_type": "markdown",
      "metadata": {
        "id": "1YcoPMfiuWBa"
      },
      "source": [
        "Problem-II"
      ]
    },
    {
      "cell_type": "code",
      "metadata": {
        "colab": {
          "base_uri": "https://localhost:8080/"
        },
        "id": "YoH5AhjIuYV1",
        "outputId": "10a600c7-45ae-4987-cf84-d151fef0042e"
      },
      "source": [
        "class PDFs:\n",
        "  def set_pdf_details(self,creator,dis,size):\n",
        "    self.creator = creator\n",
        "    self.dis = dis\n",
        "    self.size = size\n",
        "  def get_pdf_details(self):\n",
        "    print(\"Creator - \",self.creator,\"\\nDiscription - \",self.dis,\"\\nFile size - \",self.size)\n",
        "\n",
        "class document(PDFs):\n",
        "  def Pictures(self,creator,dis,size):\n",
        "    self.creator = creator\n",
        "    self.dis = dis\n",
        "    self.dimension = []\n",
        "    for i in range(2):\n",
        "      a = int(input(\"Enter the dimension - \"))\n",
        "      self.dimension.append(a)\n",
        "    self.size = size\n",
        "  def pdf(self,creator,dis,size):\n",
        "    PDFs.set_pdf_details(self,creator,dis,size)\n",
        "  def check_size(self):\n",
        "    if self.size >= 500:\n",
        "      print(\"Please upload the document of size less than 500 KB\")\n",
        "    else:\n",
        "      print(\"Document is uploaded\")\n",
        "  def display_pdfs(self):\n",
        "    super().get_pdf_details()\n",
        "  def display_pictures(self):\n",
        "      print(\"Creator - \",self.creator,\"\\nDiscription - \",self.dis,\"\\nDimensions - \",self.dimension,\"\\nFile size - \",self.size)\n",
        "  def checkdimension(self):\n",
        "    for i in range(2):\n",
        "      if self.dimension[i] >= 1000:\n",
        "        print(\"Please upload picture with dimension 1000 X 1000 pixels or less\")\n",
        "        break\n",
        "      else:\n",
        "        print(\"Picture dimension is accepted\")\n",
        "\n",
        "d1 = document()\n",
        "d1.Pictures(\"Ram\",\"xyz\",450)\n",
        "d1.pdf(\"Ram\",\"xyz\",450)\n",
        "d1.display_pdfs()\n",
        "d1.display_pictures()\n",
        "d1.check_size()\n",
        "d1.checkdimension()"
      ],
      "execution_count": 1,
      "outputs": [
        {
          "output_type": "stream",
          "name": "stdout",
          "text": [
            "Enter the dimension - 10000\n",
            "Enter the dimension - 200\n",
            "Creator -  Ram \n",
            "Discription -  xyz \n",
            "File size -  450\n",
            "Creator -  Ram \n",
            "Discription -  xyz \n",
            "Dimensions -  [10000, 200] \n",
            "File size -  450\n",
            "Document is uploaded\n",
            "Please upload picture with dimension 1000 X 1000 pixels or less\n"
          ]
        }
      ]
    },
    {
      "cell_type": "markdown",
      "metadata": {
        "id": "urhjbmbP9t_n"
      },
      "source": [
        "Problem-III"
      ]
    },
    {
      "cell_type": "code",
      "metadata": {
        "colab": {
          "base_uri": "https://localhost:8080/"
        },
        "id": "WVnM_unZ9wUf",
        "outputId": "807c1247-5a3b-4ef7-c8ab-ee0f13bee3bf"
      },
      "source": [
        "class vehicle:\n",
        "    def __init__(self, name, mileage, capacity):\n",
        "        self.name = name\n",
        "        self.mileage = mileage\n",
        "        self.capacity = capacity\n",
        "\n",
        "    def total_fare(self):\n",
        "        return self.capacity * 100\n",
        "\n",
        "class bus(vehicle):\n",
        "    def __init__(self, name, mileage, capacity=50):\n",
        "        vehicle.__init__(self, name, mileage, capacity)\n",
        "        self.final_amount = vehicle.total_fare(self) + vehicle.total_fare(self) * 0.1\n",
        "\n",
        "    def bus_fare(self):\n",
        "        print(\"Final amount - \",self.final_amount)\n",
        "\n",
        "c1 = vehicle(\"Wheel steal\", 25, 10)\n",
        "b1 = bus(\"Big car\", 20)\n",
        "print(\"Car Fare - \",c1.total_fare())\n",
        "b1.bus_fare()"
      ],
      "execution_count": 11,
      "outputs": [
        {
          "output_type": "stream",
          "name": "stdout",
          "text": [
            "Car Fare -  1000\n",
            "Final amount -  5500.0\n"
          ]
        }
      ]
    }
  ]
}